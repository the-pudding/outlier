{
 "cells": [
  {
   "cell_type": "markdown",
   "id": "ff1aacf9-5067-4295-9aad-46dc796b9410",
   "metadata": {},
   "source": [
    "# Hockey Stick analysis"
   ]
  },
  {
   "cell_type": "code",
   "execution_count": 1,
   "id": "678e26b2-42b0-471c-b656-f871b66daf98",
   "metadata": {},
   "outputs": [],
   "source": [
    "from pathlib import Path\n",
    "from io import BytesIO\n",
    "\n",
    "import requests\n",
    "import pandas as pd\n",
    "import numpy as np\n",
    "import altair as alt"
   ]
  },
  {
   "cell_type": "code",
   "execution_count": 2,
   "id": "fe51929d-0fe8-4c90-ab6b-ee211e1bdb13",
   "metadata": {},
   "outputs": [],
   "source": [
    "BASE_DIR = Path().cwd().parent\n",
    "DATA_DIR = BASE_DIR.joinpath(\"data\")\n",
    "INPUT_DIR = DATA_DIR.joinpath(\"raw\")\n",
    "OUTPUT_DIR = DATA_DIR.joinpath(\"processed\")\n",
    "LOCAL_SHP_DIR = BASE_DIR.joinpath(\"shp\")"
   ]
  },
  {
   "cell_type": "markdown",
   "id": "fb1ad47b-b3f6-48da-bcdf-a0ffd752cdc4",
   "metadata": {},
   "source": [
    "X value"
   ]
  },
  {
   "cell_type": "code",
   "execution_count": 3,
   "id": "2cec04c3-9c21-426b-ab3a-d9b8047922cb",
   "metadata": {},
   "outputs": [],
   "source": [
    "gardena_pred_medhhinc_35yo = 30000\n",
    "gardena_medhhinc_2016 = 40000"
   ]
  },
  {
   "cell_type": "markdown",
   "id": "be525a09-0330-4bdc-a5b4-cfacf2deb4c7",
   "metadata": {},
   "source": [
    "Y value"
   ]
  },
  {
   "cell_type": "code",
   "execution_count": 4,
   "id": "c746446a-8c9e-4753-81a9-f79f872a9807",
   "metadata": {},
   "outputs": [],
   "source": [
    "fremont_pred_medhhinc_35yo = 46000\n",
    "fremont_medhhinc_2016 = 120000"
   ]
  },
  {
   "cell_type": "markdown",
   "id": "73d6ed5b-ad00-49f1-b582-393cfd3059e5",
   "metadata": {},
   "source": [
    "Offsets"
   ]
  },
  {
   "cell_type": "markdown",
   "id": "6cbb8bb6-7219-4a1e-8228-c5fb78d67e6f",
   "metadata": {},
   "source": [
    "Initital step at age 2\n",
    "\n",
    "Formula:\n",
    "\n",
    "```\n",
    "Base Offset = 0.62\n",
    "\n",
    "Sub Offset = 0.89\n",
    "\n",
    "X = low opportunity neighborhood\n",
    "Y = high opportunity neighborhood\n",
    "\n",
    "initial move = (Y-X) * Base_Offset + X\n",
    "```"
   ]
  },
  {
   "cell_type": "code",
   "execution_count": 5,
   "id": "cb973371-4072-4f9e-a2c5-aafe23f320ab",
   "metadata": {},
   "outputs": [],
   "source": [
    "SUB_OFFSET = 0.89"
   ]
  },
  {
   "cell_type": "code",
   "execution_count": 6,
   "id": "ff138f34-b85e-4577-be6f-f8806a078709",
   "metadata": {},
   "outputs": [],
   "source": [
    "def calc_casual_move(x, y, offset = 1):\n",
    "    BASE_OFFSET = 0.62\n",
    "    return offset * ((y - x) * BASE_OFFSET) + x"
   ]
  },
  {
   "cell_type": "markdown",
   "id": "c830a861-8907-4178-8f5a-681a53f6f2f9",
   "metadata": {},
   "source": [
    "Casual estimated start move (top dotted line in figure)"
   ]
  },
  {
   "cell_type": "code",
   "execution_count": 7,
   "id": "da462667-52bf-4ba2-9d18-42d1faf54ada",
   "metadata": {},
   "outputs": [
    {
     "data": {
      "text/plain": [
       "89600.0"
      ]
     },
     "execution_count": 7,
     "metadata": {},
     "output_type": "execute_result"
    }
   ],
   "source": [
    "calc_casual_move(gardena_medhhinc_2016, fremont_medhhinc_2016)"
   ]
  },
  {
   "cell_type": "markdown",
   "id": "56fcde0b-911a-4366-b97f-5b4ba4eeeb32",
   "metadata": {},
   "source": [
    "Bottom start move (bottom dotted line in figure) (whatever X is)"
   ]
  },
  {
   "cell_type": "code",
   "execution_count": 8,
   "id": "f1e6d96e-db20-436a-805b-270c840e6d38",
   "metadata": {},
   "outputs": [
    {
     "data": {
      "text/plain": [
       "40000"
      ]
     },
     "execution_count": 8,
     "metadata": {},
     "output_type": "execute_result"
    }
   ],
   "source": [
    "gardena_medhhinc_2016"
   ]
  },
  {
   "cell_type": "code",
   "execution_count": 9,
   "id": "ec236648-2889-4e59-bcd0-b181110132c8",
   "metadata": {},
   "outputs": [],
   "source": [
    "def estimate_income_gain(x, y, initial_offset = SUB_OFFSET):\n",
    "    # what we'll subtract the initial_offset from on every pass\n",
    "    MOVE_OFFSET = 0.025\n",
    "    # our results \n",
    "    results = []\n",
    "    # the ages we're measuring (2-23 years old)\n",
    "    ages = [a for a in range(2, 24)]\n",
    "    # our offset value set to the initial value pass to the function\n",
    "    offset = initial_offset\n",
    "    # begin loop to calc income gain/loss from move\n",
    "    for age in ages:\n",
    "        # setup result dict\n",
    "        result = dict()\n",
    "        result[\"age\"] = age\n",
    "        # only adjust the offset if we're not at the start i.e. not Age 2\n",
    "        if age != 2:\n",
    "            offset -= MOVE_OFFSET\n",
    "        \n",
    "        # calc pred gain/lose from move\n",
    "        result[\"income\"] = calc_casual_move(x, y, offset)\n",
    "        # append to list to store result\n",
    "        results.append(result)\n",
    "    # return results after loop finishes\n",
    "    return results"
   ]
  },
  {
   "cell_type": "markdown",
   "id": "785c1685-8eea-4dd1-ad2d-97ecb6dca8f0",
   "metadata": {},
   "source": [
    "### Pred Income"
   ]
  },
  {
   "cell_type": "code",
   "execution_count": 10,
   "id": "ff771959-ef2b-495b-9693-9fe265f29bca",
   "metadata": {},
   "outputs": [
    {
     "data": {
      "text/plain": [
       "39920.0"
      ]
     },
     "execution_count": 10,
     "metadata": {},
     "output_type": "execute_result"
    }
   ],
   "source": [
    "predicted_income_moved_at_birth = calc_casual_move(gardena_pred_medhhinc_35yo, fremont_pred_medhhinc_35yo)\n",
    "predicted_income_moved_at_birth"
   ]
  },
  {
   "cell_type": "code",
   "execution_count": 11,
   "id": "e1e47f45-863f-4b65-a8b4-6f4588f15860",
   "metadata": {},
   "outputs": [
    {
     "data": {
      "text/plain": [
       "30000"
      ]
     },
     "execution_count": 11,
     "metadata": {},
     "output_type": "execute_result"
    }
   ],
   "source": [
    "gardena_pred_medhhinc_35yo"
   ]
  },
  {
   "cell_type": "code",
   "execution_count": 12,
   "id": "2ac72ba5-8f74-4414-92d1-fb366cd847bd",
   "metadata": {},
   "outputs": [
    {
     "data": {
      "text/html": [
       "<div>\n",
       "<style scoped>\n",
       "    .dataframe tbody tr th:only-of-type {\n",
       "        vertical-align: middle;\n",
       "    }\n",
       "\n",
       "    .dataframe tbody tr th {\n",
       "        vertical-align: top;\n",
       "    }\n",
       "\n",
       "    .dataframe thead th {\n",
       "        text-align: right;\n",
       "    }\n",
       "</style>\n",
       "<table border=\"1\" class=\"dataframe\">\n",
       "  <thead>\n",
       "    <tr style=\"text-align: right;\">\n",
       "      <th></th>\n",
       "      <th>age</th>\n",
       "      <th>income</th>\n",
       "    </tr>\n",
       "  </thead>\n",
       "  <tbody>\n",
       "    <tr>\n",
       "      <th>0</th>\n",
       "      <td>2</td>\n",
       "      <td>38828.8</td>\n",
       "    </tr>\n",
       "    <tr>\n",
       "      <th>1</th>\n",
       "      <td>3</td>\n",
       "      <td>38580.8</td>\n",
       "    </tr>\n",
       "    <tr>\n",
       "      <th>2</th>\n",
       "      <td>4</td>\n",
       "      <td>38332.8</td>\n",
       "    </tr>\n",
       "    <tr>\n",
       "      <th>3</th>\n",
       "      <td>5</td>\n",
       "      <td>38084.8</td>\n",
       "    </tr>\n",
       "    <tr>\n",
       "      <th>4</th>\n",
       "      <td>6</td>\n",
       "      <td>37836.8</td>\n",
       "    </tr>\n",
       "  </tbody>\n",
       "</table>\n",
       "</div>"
      ],
      "text/plain": [
       "   age   income\n",
       "0    2  38828.8\n",
       "1    3  38580.8\n",
       "2    4  38332.8\n",
       "3    5  38084.8\n",
       "4    6  37836.8"
      ]
     },
     "execution_count": 12,
     "metadata": {},
     "output_type": "execute_result"
    }
   ],
   "source": [
    "prediction_data = pd.DataFrame(estimate_income_gain(gardena_pred_medhhinc_35yo, fremont_pred_medhhinc_35yo))\n",
    "prediction_data.head()"
   ]
  },
  {
   "cell_type": "code",
   "execution_count": 13,
   "id": "fb007e19-319b-4a41-b22d-877b2ef0db97",
   "metadata": {},
   "outputs": [
    {
     "data": {
      "text/html": [
       "\n",
       "<div id=\"altair-viz-1426edaa5d2d45bcb5f401da123f2360\"></div>\n",
       "<script type=\"text/javascript\">\n",
       "  var VEGA_DEBUG = (typeof VEGA_DEBUG == \"undefined\") ? {} : VEGA_DEBUG;\n",
       "  (function(spec, embedOpt){\n",
       "    let outputDiv = document.currentScript.previousElementSibling;\n",
       "    if (outputDiv.id !== \"altair-viz-1426edaa5d2d45bcb5f401da123f2360\") {\n",
       "      outputDiv = document.getElementById(\"altair-viz-1426edaa5d2d45bcb5f401da123f2360\");\n",
       "    }\n",
       "    const paths = {\n",
       "      \"vega\": \"https://cdn.jsdelivr.net/npm//vega@5?noext\",\n",
       "      \"vega-lib\": \"https://cdn.jsdelivr.net/npm//vega-lib?noext\",\n",
       "      \"vega-lite\": \"https://cdn.jsdelivr.net/npm//vega-lite@4.17.0?noext\",\n",
       "      \"vega-embed\": \"https://cdn.jsdelivr.net/npm//vega-embed@6?noext\",\n",
       "    };\n",
       "\n",
       "    function maybeLoadScript(lib, version) {\n",
       "      var key = `${lib.replace(\"-\", \"\")}_version`;\n",
       "      return (VEGA_DEBUG[key] == version) ?\n",
       "        Promise.resolve(paths[lib]) :\n",
       "        new Promise(function(resolve, reject) {\n",
       "          var s = document.createElement('script');\n",
       "          document.getElementsByTagName(\"head\")[0].appendChild(s);\n",
       "          s.async = true;\n",
       "          s.onload = () => {\n",
       "            VEGA_DEBUG[key] = version;\n",
       "            return resolve(paths[lib]);\n",
       "          };\n",
       "          s.onerror = () => reject(`Error loading script: ${paths[lib]}`);\n",
       "          s.src = paths[lib];\n",
       "        });\n",
       "    }\n",
       "\n",
       "    function showError(err) {\n",
       "      outputDiv.innerHTML = `<div class=\"error\" style=\"color:red;\">${err}</div>`;\n",
       "      throw err;\n",
       "    }\n",
       "\n",
       "    function displayChart(vegaEmbed) {\n",
       "      vegaEmbed(outputDiv, spec, embedOpt)\n",
       "        .catch(err => showError(`Javascript Error: ${err.message}<br>This usually means there's a typo in your chart specification. See the javascript console for the full traceback.`));\n",
       "    }\n",
       "\n",
       "    if(typeof define === \"function\" && define.amd) {\n",
       "      requirejs.config({paths});\n",
       "      require([\"vega-embed\"], displayChart, err => showError(`Error loading script: ${err.message}`));\n",
       "    } else {\n",
       "      maybeLoadScript(\"vega\", \"5\")\n",
       "        .then(() => maybeLoadScript(\"vega-lite\", \"4.17.0\"))\n",
       "        .then(() => maybeLoadScript(\"vega-embed\", \"6\"))\n",
       "        .catch(showError)\n",
       "        .then(() => displayChart(vegaEmbed));\n",
       "    }\n",
       "  })({\"config\": {\"view\": {\"continuousWidth\": 400, \"continuousHeight\": 300}}, \"layer\": [{\"data\": {\"name\": \"data-cd853d8a5a5be8df06071508d71de90b\"}, \"mark\": \"point\", \"encoding\": {\"x\": {\"axis\": {\"title\": \"Age of Child when Parents Move\"}, \"field\": \"age\", \"scale\": {}, \"type\": \"quantitative\"}, \"y\": {\"axis\": {\"format\": \"$,f\", \"title\": \"Average Income at Age 35\"}, \"field\": \"income\", \"scale\": {\"domainMax\": 41000, \"domainMin\": 29000, \"zero\": false}, \"type\": \"quantitative\"}}}, {\"data\": {\"name\": \"empty\"}, \"mark\": {\"type\": \"rule\", \"color\": \"gray\", \"strokeDash\": [12, 6], \"strokeWidth\": 1}, \"encoding\": {\"y\": {\"datum\": 39920.0}}}, {\"data\": {\"name\": \"empty\"}, \"mark\": {\"type\": \"text\", \"align\": \"left\", \"baseline\": \"middle\", \"color\": \"gray\", \"dx\": 410.0, \"fontSize\": 16}, \"encoding\": {\"text\": {\"datum\": \"Fremont\"}, \"y\": {\"datum\": 39920.0}}}, {\"data\": {\"name\": \"empty\"}, \"mark\": {\"type\": \"rule\", \"color\": \"gray\", \"strokeDash\": [12, 6], \"strokeWidth\": 1}, \"encoding\": {\"y\": {\"datum\": 30000}}}, {\"data\": {\"name\": \"empty\"}, \"mark\": {\"type\": \"text\", \"align\": \"left\", \"baseline\": \"middle\", \"color\": \"gray\", \"dx\": 410.0, \"fontSize\": 16}, \"encoding\": {\"text\": {\"datum\": \"Gardena\"}, \"y\": {\"datum\": 30000}}, \"height\": 600, \"title\": \"Income gain from moving to a 'better' neighborhood\", \"width\": 800}], \"$schema\": \"https://vega.github.io/schema/vega-lite/v4.17.0.json\", \"datasets\": {\"data-cd853d8a5a5be8df06071508d71de90b\": [{\"age\": 2, \"income\": 38828.8}, {\"age\": 3, \"income\": 38580.8}, {\"age\": 4, \"income\": 38332.8}, {\"age\": 5, \"income\": 38084.8}, {\"age\": 6, \"income\": 37836.8}, {\"age\": 7, \"income\": 37588.8}, {\"age\": 8, \"income\": 37340.799999999996}, {\"age\": 9, \"income\": 37092.799999999996}, {\"age\": 10, \"income\": 36844.799999999996}, {\"age\": 11, \"income\": 36596.799999999996}, {\"age\": 12, \"income\": 36348.799999999996}, {\"age\": 13, \"income\": 36100.799999999996}, {\"age\": 14, \"income\": 35852.799999999996}, {\"age\": 15, \"income\": 35604.799999999996}, {\"age\": 16, \"income\": 35356.799999999996}, {\"age\": 17, \"income\": 35108.799999999996}, {\"age\": 18, \"income\": 34860.799999999996}, {\"age\": 19, \"income\": 34612.799999999996}, {\"age\": 20, \"income\": 34364.799999999996}, {\"age\": 21, \"income\": 34116.799999999996}, {\"age\": 22, \"income\": 33868.799999999996}, {\"age\": 23, \"income\": 33620.799999999996}], \"empty\": [{}]}}, {\"mode\": \"vega-lite\"});\n",
       "</script>"
      ],
      "text/plain": [
       "alt.LayerChart(...)"
      ]
     },
     "execution_count": 13,
     "metadata": {},
     "output_type": "execute_result"
    }
   ],
   "source": [
    "width = 800\n",
    "height = 600\n",
    "\n",
    "rule_line = alt.Chart().mark_rule(\n",
    "    strokeDash=[12, 6],\n",
    "    strokeWidth=1,\n",
    "    color=\"gray\"\n",
    ")\n",
    "\n",
    "text_anno = alt.Chart().mark_text(\n",
    "    baseline=\"middle\",\n",
    "    align=\"left\",\n",
    "    color=\"gray\",\n",
    "    fontSize=16,\n",
    "    dx=(width/2) + 10\n",
    ")\n",
    "\n",
    "alt.Chart(prediction_data).mark_point().encode(\n",
    "    alt.X('age',\n",
    "        scale=alt.Scale(),\n",
    "        axis=alt.Axis(title=\"Age of Child when Parents Move\"),\n",
    "    ),    \n",
    "    alt.Y('income',\n",
    "        scale=alt.Scale(\n",
    "            zero=False, \n",
    "            domainMin=29000, \n",
    "            domainMax=41000\n",
    "        ),\n",
    "        axis=alt.Axis(format=\"$,f\", title=\"Average Income at Age 35\"),\n",
    "    ),\n",
    ") + rule_line.encode(\n",
    "    y=alt.datum(predicted_income_moved_at_birth)\n",
    ") + text_anno.encode(\n",
    "    y=alt.datum(predicted_income_moved_at_birth),\n",
    "    text=alt.datum(\"Fremont\")\n",
    ") + rule_line.encode(\n",
    "    y=alt.datum(gardena_pred_medhhinc_35yo)\n",
    ") + text_anno.encode(\n",
    "    y=alt.datum(gardena_pred_medhhinc_35yo),\n",
    "    text=alt.datum(\"Gardena\")\n",
    ").properties(\n",
    "    title=\"Income gain from moving to a 'better' neighborhood\",\n",
    "    width=width, \n",
    "    height=height\n",
    ")"
   ]
  },
  {
   "cell_type": "code",
   "execution_count": null,
   "id": "d9c63ad7-9b1d-43a1-9466-820172749cdb",
   "metadata": {},
   "outputs": [],
   "source": []
  }
 ],
 "metadata": {
  "kernelspec": {
   "display_name": "Python 3 (ipykernel)",
   "language": "python",
   "name": "python3"
  },
  "language_info": {
   "codemirror_mode": {
    "name": "ipython",
    "version": 3
   },
   "file_extension": ".py",
   "mimetype": "text/x-python",
   "name": "python",
   "nbconvert_exporter": "python",
   "pygments_lexer": "ipython3",
   "version": "3.9.10"
  }
 },
 "nbformat": 4,
 "nbformat_minor": 5
}
