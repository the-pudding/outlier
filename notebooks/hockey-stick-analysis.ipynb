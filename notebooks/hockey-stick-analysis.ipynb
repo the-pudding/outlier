{
 "cells": [
  {
   "cell_type": "markdown",
   "id": "ff1aacf9-5067-4295-9aad-46dc796b9410",
   "metadata": {},
   "source": [
    "# Hockey Stick analysis"
   ]
  },
  {
   "cell_type": "code",
   "execution_count": 2,
   "id": "678e26b2-42b0-471c-b656-f871b66daf98",
   "metadata": {},
   "outputs": [],
   "source": [
    "from pathlib import Path\n",
    "from io import BytesIO\n",
    "\n",
    "import requests\n",
    "import pandas as pd\n",
    "import numpy as np"
   ]
  },
  {
   "cell_type": "code",
   "execution_count": 16,
   "id": "fe51929d-0fe8-4c90-ab6b-ee211e1bdb13",
   "metadata": {},
   "outputs": [],
   "source": [
    "BASE_DIR = Path().cwd().parent\n",
    "DATA_DIR = BASE_DIR.joinpath(\"data\")\n",
    "INPUT_DIR = DATA_DIR.joinpath(\"raw\")\n",
    "OUTPUT_DIR = DATA_DIR.joinpath(\"processed\")\n",
    "LOCAL_SHP_DIR = BASE_DIR.joinpath(\"shp\")"
   ]
  },
  {
   "cell_type": "markdown",
   "id": "fb1ad47b-b3f6-48da-bcdf-a0ffd752cdc4",
   "metadata": {},
   "source": [
    "X value"
   ]
  },
  {
   "cell_type": "code",
   "execution_count": 17,
   "id": "2cec04c3-9c21-426b-ab3a-d9b8047922cb",
   "metadata": {},
   "outputs": [],
   "source": [
    "gardena_pred_medhhinc_35yo = 30000\n",
    "gardena_medhhinc_2016 = 40000"
   ]
  },
  {
   "cell_type": "markdown",
   "id": "be525a09-0330-4bdc-a5b4-cfacf2deb4c7",
   "metadata": {},
   "source": [
    "Y value"
   ]
  },
  {
   "cell_type": "code",
   "execution_count": 18,
   "id": "c746446a-8c9e-4753-81a9-f79f872a9807",
   "metadata": {},
   "outputs": [],
   "source": [
    "fremont_pred_medhhinc_35yo = 46000\n",
    "fremont_medhhinc_2016 = 120000"
   ]
  },
  {
   "cell_type": "markdown",
   "id": "73d6ed5b-ad00-49f1-b582-393cfd3059e5",
   "metadata": {},
   "source": [
    "Offsets"
   ]
  },
  {
   "cell_type": "markdown",
   "id": "6cbb8bb6-7219-4a1e-8228-c5fb78d67e6f",
   "metadata": {},
   "source": [
    "Initital step at age 2\n",
    "\n",
    "Formula:\n",
    "\n",
    "```\n",
    "Base Offset = 0.62\n",
    "\n",
    "Sub Offset = 0.89\n",
    "\n",
    "X = low opportunity neighborhood\n",
    "Y = high opportunity neighborhood\n",
    "\n",
    "initial move = (Y-X) * Base_Offset + X\n",
    "```"
   ]
  },
  {
   "cell_type": "code",
   "execution_count": null,
   "id": "cb973371-4072-4f9e-a2c5-aafe23f320ab",
   "metadata": {},
   "outputs": [],
   "source": [
    "SUB_OFFSET = 0.89"
   ]
  },
  {
   "cell_type": "code",
   "execution_count": 62,
   "id": "ff138f34-b85e-4577-be6f-f8806a078709",
   "metadata": {},
   "outputs": [],
   "source": [
    "def calc_casual_move(x, y, offset = 1):\n",
    "    BASE_OFFSET = 0.62\n",
    "    return offset * ((y - x) * BASE_OFFSET) + x"
   ]
  },
  {
   "cell_type": "markdown",
   "id": "c830a861-8907-4178-8f5a-681a53f6f2f9",
   "metadata": {},
   "source": [
    "Casual estimated start move (top dotted line in figure)"
   ]
  },
  {
   "cell_type": "code",
   "execution_count": 63,
   "id": "da462667-52bf-4ba2-9d18-42d1faf54ada",
   "metadata": {},
   "outputs": [
    {
     "data": {
      "text/plain": [
       "89600.0"
      ]
     },
     "execution_count": 63,
     "metadata": {},
     "output_type": "execute_result"
    }
   ],
   "source": [
    "calc_casual_move(gardena_medhhinc_2016, fremont_medhhinc_2016)"
   ]
  },
  {
   "cell_type": "markdown",
   "id": "56fcde0b-911a-4366-b97f-5b4ba4eeeb32",
   "metadata": {},
   "source": [
    "Bottom start move (bottom dotted line in figure) (whatever X is)"
   ]
  },
  {
   "cell_type": "code",
   "execution_count": 56,
   "id": "f1e6d96e-db20-436a-805b-270c840e6d38",
   "metadata": {},
   "outputs": [
    {
     "data": {
      "text/plain": [
       "40000"
      ]
     },
     "execution_count": 56,
     "metadata": {},
     "output_type": "execute_result"
    }
   ],
   "source": [
    "gardena_medhhinc_2016"
   ]
  },
  {
   "cell_type": "code",
   "execution_count": 80,
   "id": "ec236648-2889-4e59-bcd0-b181110132c8",
   "metadata": {},
   "outputs": [],
   "source": [
    "def estimate_income_gain(x, y, initial_offset = SUB_OFFSET):\n",
    "    # what we'll subtract the initial_offset from on every pass\n",
    "    MOVE_OFFSET = 0.025\n",
    "    # our results \n",
    "    results = []\n",
    "    # the ages we're measuring (2-23 years old)\n",
    "    ages = [a for a in range(2, 24)]\n",
    "    # our offset value set to the initial value pass to the function\n",
    "    offset = initial_offset\n",
    "    # begin loop to calc income gain/loss from move\n",
    "    for age in ages:\n",
    "        # setup result dict\n",
    "        result = dict()\n",
    "        result[\"age\"] = age\n",
    "        # only adjust the offset if we're not at the start i.e. not Age 2\n",
    "        if age != 2:\n",
    "            offset -= MOVE_OFFSET\n",
    "        \n",
    "        # calc pred gain/lose from move\n",
    "        result[\"income\"] = calc_casual_move(x, y, offset)\n",
    "        # append to list to store result\n",
    "        results.append(result)\n",
    "    # return results after loop finishes\n",
    "    return results"
   ]
  },
  {
   "cell_type": "markdown",
   "id": "a2eaf889-e043-458f-be37-79b747d05983",
   "metadata": {},
   "source": [
    "### Estimated neighborhood income"
   ]
  },
  {
   "cell_type": "code",
   "execution_count": 81,
   "id": "988c5678-71e7-4d0e-a0dc-d0b29029d0fa",
   "metadata": {},
   "outputs": [
    {
     "data": {
      "text/plain": [
       "89600.0"
      ]
     },
     "execution_count": 81,
     "metadata": {},
     "output_type": "execute_result"
    }
   ],
   "source": [
    "calc_casual_move(gardena_medhhinc_2016, fremont_medhhinc_2016)"
   ]
  },
  {
   "cell_type": "code",
   "execution_count": 82,
   "id": "803a8bf4-bfaf-43a4-a76c-acb0dd8de72e",
   "metadata": {},
   "outputs": [
    {
     "data": {
      "text/html": [
       "<div>\n",
       "<style scoped>\n",
       "    .dataframe tbody tr th:only-of-type {\n",
       "        vertical-align: middle;\n",
       "    }\n",
       "\n",
       "    .dataframe tbody tr th {\n",
       "        vertical-align: top;\n",
       "    }\n",
       "\n",
       "    .dataframe thead th {\n",
       "        text-align: right;\n",
       "    }\n",
       "</style>\n",
       "<table border=\"1\" class=\"dataframe\">\n",
       "  <thead>\n",
       "    <tr style=\"text-align: right;\">\n",
       "      <th></th>\n",
       "      <th>age</th>\n",
       "      <th>income</th>\n",
       "    </tr>\n",
       "  </thead>\n",
       "  <tbody>\n",
       "    <tr>\n",
       "      <th>0</th>\n",
       "      <td>2</td>\n",
       "      <td>84144.0</td>\n",
       "    </tr>\n",
       "    <tr>\n",
       "      <th>1</th>\n",
       "      <td>3</td>\n",
       "      <td>82904.0</td>\n",
       "    </tr>\n",
       "    <tr>\n",
       "      <th>2</th>\n",
       "      <td>4</td>\n",
       "      <td>81664.0</td>\n",
       "    </tr>\n",
       "    <tr>\n",
       "      <th>3</th>\n",
       "      <td>5</td>\n",
       "      <td>80424.0</td>\n",
       "    </tr>\n",
       "    <tr>\n",
       "      <th>4</th>\n",
       "      <td>6</td>\n",
       "      <td>79184.0</td>\n",
       "    </tr>\n",
       "    <tr>\n",
       "      <th>5</th>\n",
       "      <td>7</td>\n",
       "      <td>77944.0</td>\n",
       "    </tr>\n",
       "    <tr>\n",
       "      <th>6</th>\n",
       "      <td>8</td>\n",
       "      <td>76704.0</td>\n",
       "    </tr>\n",
       "    <tr>\n",
       "      <th>7</th>\n",
       "      <td>9</td>\n",
       "      <td>75464.0</td>\n",
       "    </tr>\n",
       "    <tr>\n",
       "      <th>8</th>\n",
       "      <td>10</td>\n",
       "      <td>74224.0</td>\n",
       "    </tr>\n",
       "    <tr>\n",
       "      <th>9</th>\n",
       "      <td>11</td>\n",
       "      <td>72984.0</td>\n",
       "    </tr>\n",
       "    <tr>\n",
       "      <th>10</th>\n",
       "      <td>12</td>\n",
       "      <td>71744.0</td>\n",
       "    </tr>\n",
       "    <tr>\n",
       "      <th>11</th>\n",
       "      <td>13</td>\n",
       "      <td>70504.0</td>\n",
       "    </tr>\n",
       "    <tr>\n",
       "      <th>12</th>\n",
       "      <td>14</td>\n",
       "      <td>69264.0</td>\n",
       "    </tr>\n",
       "    <tr>\n",
       "      <th>13</th>\n",
       "      <td>15</td>\n",
       "      <td>68024.0</td>\n",
       "    </tr>\n",
       "    <tr>\n",
       "      <th>14</th>\n",
       "      <td>16</td>\n",
       "      <td>66784.0</td>\n",
       "    </tr>\n",
       "    <tr>\n",
       "      <th>15</th>\n",
       "      <td>17</td>\n",
       "      <td>65544.0</td>\n",
       "    </tr>\n",
       "    <tr>\n",
       "      <th>16</th>\n",
       "      <td>18</td>\n",
       "      <td>64304.0</td>\n",
       "    </tr>\n",
       "    <tr>\n",
       "      <th>17</th>\n",
       "      <td>19</td>\n",
       "      <td>63064.0</td>\n",
       "    </tr>\n",
       "    <tr>\n",
       "      <th>18</th>\n",
       "      <td>20</td>\n",
       "      <td>61824.0</td>\n",
       "    </tr>\n",
       "    <tr>\n",
       "      <th>19</th>\n",
       "      <td>21</td>\n",
       "      <td>60584.0</td>\n",
       "    </tr>\n",
       "    <tr>\n",
       "      <th>20</th>\n",
       "      <td>22</td>\n",
       "      <td>59344.0</td>\n",
       "    </tr>\n",
       "    <tr>\n",
       "      <th>21</th>\n",
       "      <td>23</td>\n",
       "      <td>58104.0</td>\n",
       "    </tr>\n",
       "  </tbody>\n",
       "</table>\n",
       "</div>"
      ],
      "text/plain": [
       "    age   income\n",
       "0     2  84144.0\n",
       "1     3  82904.0\n",
       "2     4  81664.0\n",
       "3     5  80424.0\n",
       "4     6  79184.0\n",
       "5     7  77944.0\n",
       "6     8  76704.0\n",
       "7     9  75464.0\n",
       "8    10  74224.0\n",
       "9    11  72984.0\n",
       "10   12  71744.0\n",
       "11   13  70504.0\n",
       "12   14  69264.0\n",
       "13   15  68024.0\n",
       "14   16  66784.0\n",
       "15   17  65544.0\n",
       "16   18  64304.0\n",
       "17   19  63064.0\n",
       "18   20  61824.0\n",
       "19   21  60584.0\n",
       "20   22  59344.0\n",
       "21   23  58104.0"
      ]
     },
     "execution_count": 82,
     "metadata": {},
     "output_type": "execute_result"
    }
   ],
   "source": [
    "pd.DataFrame(estimate_income_gain(gardena_medhhinc_2016, fremont_medhhinc_2016))"
   ]
  },
  {
   "cell_type": "code",
   "execution_count": 79,
   "id": "395c154b-a9f1-42a1-8af2-597d43542b0e",
   "metadata": {},
   "outputs": [
    {
     "data": {
      "text/plain": [
       "40000"
      ]
     },
     "execution_count": 79,
     "metadata": {},
     "output_type": "execute_result"
    }
   ],
   "source": [
    "gardena_medhhinc_2016"
   ]
  },
  {
   "cell_type": "markdown",
   "id": "785c1685-8eea-4dd1-ad2d-97ecb6dca8f0",
   "metadata": {},
   "source": [
    "### Pred Income"
   ]
  },
  {
   "cell_type": "code",
   "execution_count": 83,
   "id": "2ac72ba5-8f74-4414-92d1-fb366cd847bd",
   "metadata": {},
   "outputs": [
    {
     "data": {
      "text/html": [
       "<div>\n",
       "<style scoped>\n",
       "    .dataframe tbody tr th:only-of-type {\n",
       "        vertical-align: middle;\n",
       "    }\n",
       "\n",
       "    .dataframe tbody tr th {\n",
       "        vertical-align: top;\n",
       "    }\n",
       "\n",
       "    .dataframe thead th {\n",
       "        text-align: right;\n",
       "    }\n",
       "</style>\n",
       "<table border=\"1\" class=\"dataframe\">\n",
       "  <thead>\n",
       "    <tr style=\"text-align: right;\">\n",
       "      <th></th>\n",
       "      <th>age</th>\n",
       "      <th>income</th>\n",
       "    </tr>\n",
       "  </thead>\n",
       "  <tbody>\n",
       "    <tr>\n",
       "      <th>0</th>\n",
       "      <td>2</td>\n",
       "      <td>38828.8</td>\n",
       "    </tr>\n",
       "    <tr>\n",
       "      <th>1</th>\n",
       "      <td>3</td>\n",
       "      <td>38580.8</td>\n",
       "    </tr>\n",
       "    <tr>\n",
       "      <th>2</th>\n",
       "      <td>4</td>\n",
       "      <td>38332.8</td>\n",
       "    </tr>\n",
       "    <tr>\n",
       "      <th>3</th>\n",
       "      <td>5</td>\n",
       "      <td>38084.8</td>\n",
       "    </tr>\n",
       "    <tr>\n",
       "      <th>4</th>\n",
       "      <td>6</td>\n",
       "      <td>37836.8</td>\n",
       "    </tr>\n",
       "    <tr>\n",
       "      <th>5</th>\n",
       "      <td>7</td>\n",
       "      <td>37588.8</td>\n",
       "    </tr>\n",
       "    <tr>\n",
       "      <th>6</th>\n",
       "      <td>8</td>\n",
       "      <td>37340.8</td>\n",
       "    </tr>\n",
       "    <tr>\n",
       "      <th>7</th>\n",
       "      <td>9</td>\n",
       "      <td>37092.8</td>\n",
       "    </tr>\n",
       "    <tr>\n",
       "      <th>8</th>\n",
       "      <td>10</td>\n",
       "      <td>36844.8</td>\n",
       "    </tr>\n",
       "    <tr>\n",
       "      <th>9</th>\n",
       "      <td>11</td>\n",
       "      <td>36596.8</td>\n",
       "    </tr>\n",
       "    <tr>\n",
       "      <th>10</th>\n",
       "      <td>12</td>\n",
       "      <td>36348.8</td>\n",
       "    </tr>\n",
       "    <tr>\n",
       "      <th>11</th>\n",
       "      <td>13</td>\n",
       "      <td>36100.8</td>\n",
       "    </tr>\n",
       "    <tr>\n",
       "      <th>12</th>\n",
       "      <td>14</td>\n",
       "      <td>35852.8</td>\n",
       "    </tr>\n",
       "    <tr>\n",
       "      <th>13</th>\n",
       "      <td>15</td>\n",
       "      <td>35604.8</td>\n",
       "    </tr>\n",
       "    <tr>\n",
       "      <th>14</th>\n",
       "      <td>16</td>\n",
       "      <td>35356.8</td>\n",
       "    </tr>\n",
       "    <tr>\n",
       "      <th>15</th>\n",
       "      <td>17</td>\n",
       "      <td>35108.8</td>\n",
       "    </tr>\n",
       "    <tr>\n",
       "      <th>16</th>\n",
       "      <td>18</td>\n",
       "      <td>34860.8</td>\n",
       "    </tr>\n",
       "    <tr>\n",
       "      <th>17</th>\n",
       "      <td>19</td>\n",
       "      <td>34612.8</td>\n",
       "    </tr>\n",
       "    <tr>\n",
       "      <th>18</th>\n",
       "      <td>20</td>\n",
       "      <td>34364.8</td>\n",
       "    </tr>\n",
       "    <tr>\n",
       "      <th>19</th>\n",
       "      <td>21</td>\n",
       "      <td>34116.8</td>\n",
       "    </tr>\n",
       "    <tr>\n",
       "      <th>20</th>\n",
       "      <td>22</td>\n",
       "      <td>33868.8</td>\n",
       "    </tr>\n",
       "    <tr>\n",
       "      <th>21</th>\n",
       "      <td>23</td>\n",
       "      <td>33620.8</td>\n",
       "    </tr>\n",
       "  </tbody>\n",
       "</table>\n",
       "</div>"
      ],
      "text/plain": [
       "    age   income\n",
       "0     2  38828.8\n",
       "1     3  38580.8\n",
       "2     4  38332.8\n",
       "3     5  38084.8\n",
       "4     6  37836.8\n",
       "5     7  37588.8\n",
       "6     8  37340.8\n",
       "7     9  37092.8\n",
       "8    10  36844.8\n",
       "9    11  36596.8\n",
       "10   12  36348.8\n",
       "11   13  36100.8\n",
       "12   14  35852.8\n",
       "13   15  35604.8\n",
       "14   16  35356.8\n",
       "15   17  35108.8\n",
       "16   18  34860.8\n",
       "17   19  34612.8\n",
       "18   20  34364.8\n",
       "19   21  34116.8\n",
       "20   22  33868.8\n",
       "21   23  33620.8"
      ]
     },
     "execution_count": 83,
     "metadata": {},
     "output_type": "execute_result"
    }
   ],
   "source": [
    "pd.DataFrame(estimate_income_gain(gardena_pred_medhhinc_35yo, fremont_pred_medhhinc_35yo))"
   ]
  },
  {
   "cell_type": "code",
   "execution_count": null,
   "id": "7df90fc0-465a-4ce1-8ec1-69a6eaa359c1",
   "metadata": {},
   "outputs": [],
   "source": []
  }
 ],
 "metadata": {
  "kernelspec": {
   "display_name": "Python 3 (ipykernel)",
   "language": "python",
   "name": "python3"
  },
  "language_info": {
   "codemirror_mode": {
    "name": "ipython",
    "version": 3
   },
   "file_extension": ".py",
   "mimetype": "text/x-python",
   "name": "python",
   "nbconvert_exporter": "python",
   "pygments_lexer": "ipython3",
   "version": "3.9.10"
  }
 },
 "nbformat": 4,
 "nbformat_minor": 5
}
